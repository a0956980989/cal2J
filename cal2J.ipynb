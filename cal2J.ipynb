{
 "cells": [
  {
   "cell_type": "code",
   "execution_count": 6,
   "metadata": {},
   "outputs": [
    {
     "name": "stdout",
     "output_type": "stream",
     "text": [
      "22cal\n",
      "92.092J\n"
     ]
    }
   ],
   "source": [
    "#卡路里跟焦耳換算\n",
    "temp=input()\n",
    "if temp[-1] in ['J']:\n",
    "    cal=eval(temp[0:-1])/4.186\n",
    "    print(\"{:.3f}cal\".format(cal))\n",
    "else:\n",
    "    j=eval(temp[0:-3])*4.186\n",
    "    print(\"{:.3f}J\".format(j))"
   ]
  }
 ],
 "metadata": {
  "kernelspec": {
   "display_name": "Python 3",
   "language": "python",
   "name": "python3"
  },
  "language_info": {
   "codemirror_mode": {
    "name": "ipython",
    "version": 3
   },
   "file_extension": ".py",
   "mimetype": "text/x-python",
   "name": "python",
   "nbconvert_exporter": "python",
   "pygments_lexer": "ipython3",
   "version": "3.6.4"
  }
 },
 "nbformat": 4,
 "nbformat_minor": 2
}
